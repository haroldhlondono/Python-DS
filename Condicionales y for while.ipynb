{
 "cells": [
  {
   "cell_type": "markdown",
   "metadata": {},
   "source": [
    "# Condicionales y Bucles For - While"
   ]
  },
  {
   "cell_type": "code",
   "execution_count": 1,
   "metadata": {},
   "outputs": [
    {
     "name": "stdout",
     "output_type": "stream",
     "text": [
      "Verificación de acceso\n",
      "Introduce tu edad, por favor 55\n",
      "Puedes pasar\n"
     ]
    }
   ],
   "source": [
    "print(\"Verificación de acceso\")\n",
    "edad_usuario = int(input(\"Introduce tu edad, por favor \"))\n",
    "\n",
    "if edad_usuario<18:\n",
    "    print(\"No puedes pasar\")\n",
    "else:\n",
    "    print(\"Puedes pasar\")\n",
    "    "
   ]
  },
  {
   "cell_type": "code",
   "execution_count": 27,
   "metadata": {},
   "outputs": [
    {
     "name": "stdout",
     "output_type": "stream",
     "text": [
      "Verificación de acceso\n",
      "Introduce tu edad, por favor 50\n",
      "Puedes pasar\n"
     ]
    }
   ],
   "source": [
    "print(\"Verificación de acceso\")\n",
    "edad_usuario = int(input(\"Introduce tu edad, por favor \"))\n",
    "\n",
    "if edad_usuario<18:\n",
    "    print(\"No puedes pasar\")\n",
    "elif edad_usuario>100: \n",
    "    print(\"Edad incorrecta\")\n",
    "elif edad_usuario>80:\n",
    "    print (\"Entra con precauciones\")\n",
    "else:\n",
    "    print(\"Puedes pasar\")\n",
    "    \n",
    "## me queda duda de menos cero, número negativo"
   ]
  },
  {
   "cell_type": "markdown",
   "metadata": {},
   "source": [
    "## Concatenadores de comparación"
   ]
  },
  {
   "cell_type": "code",
   "execution_count": 4,
   "metadata": {},
   "outputs": [
    {
     "name": "stdout",
     "output_type": "stream",
     "text": [
      "Introduce tu edad 65\n",
      "Edad es correcta\n"
     ]
    }
   ],
   "source": [
    "edad= int(input(\"Introduce tu edad \"))\n",
    "\n",
    "if 0<edad<100:\n",
    "    print(\"Edad es correcta\")\n",
    "else:\n",
    "    print(\"edad incorrecta\")"
   ]
  },
  {
   "cell_type": "markdown",
   "metadata": {},
   "source": [
    "## And y Or"
   ]
  },
  {
   "cell_type": "code",
   "execution_count": 6,
   "metadata": {},
   "outputs": [
    {
     "name": "stdout",
     "output_type": "stream",
     "text": [
      "Programa de becas Año 2020\n",
      "Introduce la distancia de la escuela en Km 60\n",
      "60\n",
      "Introduce numero de hermanos en colegio 4\n",
      "4\n",
      "Introduce aquí salario familiar 1300\n",
      "1300\n",
      "Tienes derecho a beca\n"
     ]
    }
   ],
   "source": [
    "print(\"Programa de becas Año 2020\")\n",
    "\n",
    "distancia_escuela=int(input(\"Introduce la distancia de la escuela en Km \"))\n",
    "print(distancia_escuela)\n",
    "\n",
    "numero_hermanos=int(input(\"Introduce numero de hermanos en colegio \"))\n",
    "print(numero_hermanos)\n",
    "\n",
    "salario_familiar=int(input(\"Introduce aquí salario familiar \"))\n",
    "print(salario_familiar)\n",
    "\n",
    "if distancia_escuela>40 and numero_hermanos>2 and salario_familiar<=20000:\n",
    "    print(\"Tienes derecho a beca\")\n",
    "else:\n",
    "    print(\"No tienes derecho a beca\")\n",
    "    \n",
    "\n",
    "\n",
    "\n"
   ]
  },
  {
   "cell_type": "code",
   "execution_count": 7,
   "metadata": {},
   "outputs": [
    {
     "name": "stdout",
     "output_type": "stream",
     "text": [
      "Programa de becas Año 2020\n",
      "Introduce la distancia de la escuela en Km 56\n",
      "56\n",
      "Introduce numero de hermanos en colegio 1\n",
      "1\n",
      "Introduce aquí salario familiar 1200\n",
      "1200\n",
      "Tienes derecho a beca\n"
     ]
    }
   ],
   "source": [
    "print(\"Programa de becas Año 2020\")\n",
    "\n",
    "distancia_escuela=int(input(\"Introduce la distancia de la escuela en Km \"))\n",
    "print(distancia_escuela)\n",
    "\n",
    "numero_hermanos=int(input(\"Introduce numero de hermanos en colegio \"))\n",
    "print(numero_hermanos)\n",
    "\n",
    "salario_familiar=int(input(\"Introduce aquí salario familiar \"))\n",
    "print(salario_familiar)\n",
    "\n",
    "if distancia_escuela>40 and numero_hermanos>2 or salario_familiar<=20000:\n",
    "    print(\"Tienes derecho a beca\")\n",
    "else:\n",
    "    print(\"No tienes derecho a beca\")\n",
    "    \n",
    "    "
   ]
  },
  {
   "cell_type": "markdown",
   "metadata": {},
   "source": [
    "## Operador in\n"
   ]
  },
  {
   "cell_type": "code",
   "execution_count": 8,
   "metadata": {},
   "outputs": [
    {
     "name": "stdout",
     "output_type": "stream",
     "text": [
      "Asignaturas optativas año 2020\n",
      "Asignaturas optativas: Macro, Micro, Fiscal\n",
      "Escribe la asignatura escogida: fiscal\n",
      "Asignatura elegida fiscal\n"
     ]
    }
   ],
   "source": [
    "print(\"Asignaturas optativas año 2020\")\n",
    "print(\"Asignaturas optativas: Macro, Micro, Fiscal\")\n",
    "asignatura=input(\"Escribe la asignatura escogida: \")\n",
    "\n",
    "if asignatura in (\"macro\", \"micro\", \"fiscal\"):\n",
    "    print(\"Asignatura elegida \" + asignatura)\n",
    "else:\n",
    "    print(\"error\")\n"
   ]
  },
  {
   "cell_type": "markdown",
   "metadata": {},
   "source": [
    "Cambiar a minúsculas"
   ]
  },
  {
   "cell_type": "code",
   "execution_count": 9,
   "metadata": {},
   "outputs": [
    {
     "name": "stdout",
     "output_type": "stream",
     "text": [
      "Asignaturas optativas año 2020\n",
      "Asignaturas optativas: Macro, Micro, Fiscal\n",
      "Escribe la asignatura escogida: macro\n",
      "Asignatura elegida macro\n"
     ]
    }
   ],
   "source": [
    "print(\"Asignaturas optativas año 2020\")\n",
    "print(\"Asignaturas optativas: Macro, Micro, Fiscal\")\n",
    "opcion=input(\"Escribe la asignatura escogida: \")\n",
    "\n",
    "asignatura=opcion.lower()\n",
    "\n",
    "if asignatura in (\"macro\", \"micro\", \"fiscal\"):\n",
    "    print(\"Asignatura elegida \" + asignatura)\n",
    "else:\n",
    "    print(\"error\")"
   ]
  },
  {
   "cell_type": "markdown",
   "metadata": {},
   "source": [
    "# For"
   ]
  },
  {
   "cell_type": "code",
   "execution_count": 13,
   "metadata": {},
   "outputs": [
    {
     "name": "stdout",
     "output_type": "stream",
     "text": [
      "Email es correcto\n"
     ]
    }
   ],
   "source": [
    "email = False\n",
    "for i in \"hhlm1976@gmail.com\":\n",
    "    if (i==\"@\"):\n",
    "        email=True\n",
    "        \n",
    "if email==True:\n",
    "    print(\"Email es correcto\")\n",
    "else:\n",
    "    print(\"El email no es correcto\")\n",
    "    \n",
    "\n",
    "\n"
   ]
  },
  {
   "cell_type": "code",
   "execution_count": 19,
   "metadata": {},
   "outputs": [
    {
     "name": "stdout",
     "output_type": "stream",
     "text": [
      "1\n",
      "2\n",
      "3\n",
      "4\n",
      "5\n",
      "6\n",
      "7\n",
      "8\n",
      "9\n",
      "10\n"
     ]
    }
   ],
   "source": [
    "for i in range(10):\n",
    "    print(i+1)"
   ]
  },
  {
   "cell_type": "code",
   "execution_count": null,
   "metadata": {},
   "outputs": [],
   "source": []
  }
 ],
 "metadata": {
  "kernelspec": {
   "display_name": "Python 3",
   "language": "python",
   "name": "python3"
  },
  "language_info": {
   "codemirror_mode": {
    "name": "ipython",
    "version": 3
   },
   "file_extension": ".py",
   "mimetype": "text/x-python",
   "name": "python",
   "nbconvert_exporter": "python",
   "pygments_lexer": "ipython3",
   "version": "3.8.3"
  }
 },
 "nbformat": 4,
 "nbformat_minor": 4
}
